{
 "cells": [
  {
   "cell_type": "code",
   "execution_count": 1,
   "id": "c6f9af48-f85c-4014-90dc-56eaddaed4f0",
   "metadata": {},
   "outputs": [
    {
     "name": "stdin",
     "output_type": "stream",
     "text": [
      "value: 10\n"
     ]
    },
    {
     "name": "stdout",
     "output_type": "stream",
     "text": [
      "correct\n"
     ]
    }
   ],
   "source": [
    "a=int(input(\"value:\"))\n",
    "if(a==10):\n",
    "    print(\"correct\")\n",
    "else:\n",
    "    print(\"wrong\")"
   ]
  },
  {
   "cell_type": "code",
   "execution_count": 2,
   "id": "c942dbab-52e6-4852-8089-cee2cd46ce16",
   "metadata": {},
   "outputs": [],
   "source": [
    "#check the password"
   ]
  },
  {
   "cell_type": "code",
   "execution_count": 3,
   "id": "29b57235-e7b1-453a-8696-c484c5cbc022",
   "metadata": {},
   "outputs": [
    {
     "name": "stdin",
     "output_type": "stream",
     "text": [
      "ENTER THE PASSWORD: hope@123\n"
     ]
    },
    {
     "name": "stdout",
     "output_type": "stream",
     "text": [
      "your password is correct\n"
     ]
    }
   ],
   "source": [
    "b=input(\"ENTER THE PASSWORD:\")\n",
    "if(b==\"hope@123\"):\n",
    "    print(\"your password is correct\")\n",
    "else:\n",
    "    print(\"your password is wrong\")"
   ]
  },
  {
   "cell_type": "code",
   "execution_count": 4,
   "id": "76faaa83-9108-4497-b316-8bf6346601d0",
   "metadata": {},
   "outputs": [],
   "source": [
    "#finding the people using there age"
   ]
  },
  {
   "cell_type": "code",
   "execution_count": 5,
   "id": "ba62f670-a35d-422e-af13-8295134dcf65",
   "metadata": {},
   "outputs": [
    {
     "name": "stdin",
     "output_type": "stream",
     "text": [
      "age: 55\n"
     ]
    },
    {
     "name": "stdout",
     "output_type": "stream",
     "text": [
      "citizen\n"
     ]
    }
   ],
   "source": [
    "age=int(input(\"age:\"))\n",
    "if age<=18:\n",
    "    print(\"children\")\n",
    "elif age<=40:\n",
    "    print(\"adult\")\n",
    "elif age<=60:\n",
    "     print(\"citizen\")\n",
    "else:\n",
    "    print(\"senior citizen\")\n",
    "        \n",
    "  "
   ]
  },
  {
   "cell_type": "code",
   "execution_count": 6,
   "id": "1c5a74c2-7f07-4e0b-8ea2-be1d921aadc8",
   "metadata": {},
   "outputs": [],
   "source": [
    "#finf positive or negative number"
   ]
  },
  {
   "cell_type": "code",
   "execution_count": 7,
   "id": "c10fd45b-2530-470e-ac1d-86b68a83213b",
   "metadata": {},
   "outputs": [
    {
     "name": "stdin",
     "output_type": "stream",
     "text": [
      "enter the number 1\n"
     ]
    },
    {
     "name": "stdout",
     "output_type": "stream",
     "text": [
      "positive\n"
     ]
    }
   ],
   "source": [
    "num=int(input(\"enter the number\"))\n",
    "if num>0:\n",
    "        print(\"positive\")\n",
    "else:\n",
    "        print(\"negative\")\n",
    "        \n",
    "        \n",
    "        "
   ]
  },
  {
   "cell_type": "code",
   "execution_count": 8,
   "id": "e86bbe91-2b53-45ae-b75d-e02481ee11e4",
   "metadata": {},
   "outputs": [],
   "source": [
    "#divisible by 5"
   ]
  },
  {
   "cell_type": "code",
   "execution_count": 9,
   "id": "ca2dbef9-feb2-44e8-9ccd-30daf4c44d81",
   "metadata": {},
   "outputs": [
    {
     "name": "stdin",
     "output_type": "stream",
     "text": [
      "Enter a number to check: 22\n"
     ]
    },
    {
     "name": "stdout",
     "output_type": "stream",
     "text": [
      "no is not divisible by 5\n"
     ]
    }
   ],
   "source": [
    "numm=int(input(\"Enter a number to check:\"))\n",
    "if numm%5==0:\n",
    "    print(\"yes this given input divisible by 5\")\n",
    "else:\n",
    "    print(\"no is not divisible by 5\")"
   ]
  },
  {
   "cell_type": "code",
   "execution_count": null,
   "id": "85d38384-a587-4045-9a0d-916886d3f81e",
   "metadata": {},
   "outputs": [],
   "source": []
  }
 ],
 "metadata": {
  "kernelspec": {
   "display_name": "Python 3 (ipykernel)",
   "language": "python",
   "name": "python3"
  },
  "language_info": {
   "codemirror_mode": {
    "name": "ipython",
    "version": 3
   },
   "file_extension": ".py",
   "mimetype": "text/x-python",
   "name": "python",
   "nbconvert_exporter": "python",
   "pygments_lexer": "ipython3",
   "version": "3.11.7"
  }
 },
 "nbformat": 4,
 "nbformat_minor": 5
}

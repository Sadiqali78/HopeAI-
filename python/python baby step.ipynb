{
 "cells": [
  {
   "cell_type": "code",
   "execution_count": null,
   "id": "9669ee9b-7fe2-4b6c-beae-8ea1618c051f",
   "metadata": {},
   "outputs": [],
   "source": [
    "#user input(add)"
   ]
  },
  {
   "cell_type": "code",
   "execution_count": 1,
   "id": "baa1e9ae-9d78-4e54-8f15-3ad567325ae8",
   "metadata": {},
   "outputs": [
    {
     "name": "stdin",
     "output_type": "stream",
     "text": [
      "num1= 56\n",
      "num2= 28\n"
     ]
    },
    {
     "name": "stdout",
     "output_type": "stream",
     "text": [
      "add= 84\n"
     ]
    }
   ],
   "source": [
    "num1=int(input(\"num1=\"))\n",
    "num2=int(input(\"num2=\"))\n",
    "add=num1+num2\n",
    "print(\"add=\",add)"
   ]
  },
  {
   "cell_type": "code",
   "execution_count": null,
   "id": "1c74227b-b1cc-4b47-a04e-d03b38c2db23",
   "metadata": {},
   "outputs": [],
   "source": [
    "#bmi calculation"
   ]
  },
  {
   "cell_type": "code",
   "execution_count": 2,
   "id": "c122ac2c-9819-432d-b700-cbb134bf9096",
   "metadata": {},
   "outputs": [
    {
     "name": "stdin",
     "output_type": "stream",
     "text": [
      "Enter the BMI index: 20\n"
     ]
    },
    {
     "name": "stdout",
     "output_type": "stream",
     "text": [
      "normal weightt\n"
     ]
    }
   ],
   "source": [
    "BMI=float(input(\"Enter the BMI index:\"))\n",
    "if(BMI<=18.5):\n",
    "    print(\"underweght\")\n",
    "elif(BMI<=24.9):\n",
    "    print(\"normal weightt\")\n",
    "elif(BMI<=29.9):\n",
    "    print(\"overweight\")\n",
    "else:\n",
    "    print(\"obesity\")\n",
    "\n"
   ]
  },
  {
   "cell_type": "code",
   "execution_count": null,
   "id": "64b5d0b2-e25c-4064-9660-b7ffa12a4889",
   "metadata": {},
   "outputs": [],
   "source": [
    "#printing"
   ]
  },
  {
   "cell_type": "code",
   "execution_count": 3,
   "id": "ec2c2698-e4e6-48f6-88eb-b1a6225962e4",
   "metadata": {},
   "outputs": [
    {
     "name": "stdout",
     "output_type": "stream",
     "text": [
      "Welcome to Assignment-1\n"
     ]
    }
   ],
   "source": [
    "print(\"Welcome to Assignment-1\")"
   ]
  },
  {
   "cell_type": "code",
   "execution_count": null,
   "id": "c0644fc0-a6cb-4292-b5f5-f8a7692c8370",
   "metadata": {},
   "outputs": [],
   "source": []
  },
  {
   "cell_type": "code",
   "execution_count": null,
   "id": "1c8cf524-f4d5-4a04-abdb-9935b9d7478f",
   "metadata": {},
   "outputs": [],
   "source": []
  }
 ],
 "metadata": {
  "kernelspec": {
   "display_name": "Python 3 (ipykernel)",
   "language": "python",
   "name": "python3"
  },
  "language_info": {
   "codemirror_mode": {
    "name": "ipython",
    "version": 3
   },
   "file_extension": ".py",
   "mimetype": "text/x-python",
   "name": "python",
   "nbconvert_exporter": "python",
   "pygments_lexer": "ipython3",
   "version": "3.11.7"
  }
 },
 "nbformat": 4,
 "nbformat_minor": 5
}

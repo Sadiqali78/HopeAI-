{
 "cells": [
  {
   "cell_type": "code",
   "execution_count": 1,
   "id": "dfd70e0a-3508-4551-af2c-828417c8e910",
   "metadata": {},
   "outputs": [
    {
     "name": "stdout",
     "output_type": "stream",
     "text": [
      "HOPE AI\n"
     ]
    }
   ],
   "source": [
    "print(\"HOPE AI\")"
   ]
  },
  {
   "cell_type": "code",
   "execution_count": 2,
   "id": "55ac179f-b7b2-4104-992b-876605fe2435",
   "metadata": {},
   "outputs": [],
   "source": [
    "#buy input"
   ]
  },
  {
   "cell_type": "code",
   "execution_count": 3,
   "id": "034f0364-8cd5-49cb-91ab-a5a2a0bb3f3d",
   "metadata": {},
   "outputs": [
    {
     "name": "stdin",
     "output_type": "stream",
     "text": [
      "Enter your institute name : HopeAI\n"
     ]
    },
    {
     "name": "stdout",
     "output_type": "stream",
     "text": [
      "HopeAI\n"
     ]
    }
   ],
   "source": [
    "a=(input(\"Enter your institute name :\"))\n",
    "print(a)"
   ]
  },
  {
   "cell_type": "code",
   "execution_count": 4,
   "id": "f0ed8255-cd3f-4306-bed2-5e50d13d75fb",
   "metadata": {},
   "outputs": [],
   "source": [
    "#buy input"
   ]
  },
  {
   "cell_type": "code",
   "execution_count": 5,
   "id": "ec40cabf-a21f-4ace-94a9-55c87d112121",
   "metadata": {},
   "outputs": [
    {
     "name": "stdin",
     "output_type": "stream",
     "text": [
      "enter your name: SADIQ ALI H\n",
      "enter your age: 23\n",
      "enter your school name: RGM\n",
      "enter your degree MCA\n"
     ]
    },
    {
     "name": "stdout",
     "output_type": "stream",
     "text": [
      "name: SADIQ ALI H\n",
      "age: 23\n",
      "school: RGM\n",
      "degree: MCA\n"
     ]
    }
   ],
   "source": [
    "name=(input(\"enter your name:\"))\n",
    "age=(input(\"enter your age:\"))\n",
    "school=(input(\"enter your school name:\"))\n",
    "degree=(input(\"enter your degree\"))\n",
    "print(\"name:\",name)\n",
    "print(\"age:\",age)\n",
    "print(\"school:\",school)\n",
    "print(\"degree:\",degree)"
   ]
  },
  {
   "cell_type": "code",
   "execution_count": 6,
   "id": "72ef6268-81a6-4ec0-9ed7-33c362eb3d9a",
   "metadata": {},
   "outputs": [],
   "source": [
    "#addition"
   ]
  },
  {
   "cell_type": "code",
   "execution_count": 7,
   "id": "fe6cb382-fd58-4d5b-a2ff-badda4deb483",
   "metadata": {},
   "outputs": [
    {
     "name": "stdout",
     "output_type": "stream",
     "text": [
      "add= 77\n"
     ]
    }
   ],
   "source": [
    "a=43\n",
    "b=34\n",
    "c=a+b\n",
    "print(\"add=\",c)"
   ]
  },
  {
   "cell_type": "code",
   "execution_count": 8,
   "id": "ebfde2eb-4ab5-486a-9628-f88712dd079d",
   "metadata": {},
   "outputs": [],
   "source": [
    "#subration"
   ]
  },
  {
   "cell_type": "code",
   "execution_count": 9,
   "id": "2915a827-5a00-49ec-a6e2-8465b57d20f0",
   "metadata": {},
   "outputs": [
    {
     "name": "stdout",
     "output_type": "stream",
     "text": [
      "sub= 9\n"
     ]
    }
   ],
   "source": [
    "a=43\n",
    "b=34\n",
    "c=a-b\n",
    "print(\"sub=\",c)"
   ]
  },
  {
   "cell_type": "code",
   "execution_count": 10,
   "id": "2b8f8348-7251-4319-828d-0948b139a7bd",
   "metadata": {},
   "outputs": [],
   "source": [
    "#multiplication"
   ]
  },
  {
   "cell_type": "code",
   "execution_count": 11,
   "id": "f9e2a4fd-4577-4d5a-8ed3-eb7434e9e8f1",
   "metadata": {},
   "outputs": [
    {
     "name": "stdout",
     "output_type": "stream",
     "text": [
      "mul= 6111\n"
     ]
    }
   ],
   "source": [
    "a=63\n",
    "b=97\n",
    "c=a*b\n",
    "print(\"mul=\",c)\n"
   ]
  },
  {
   "cell_type": "code",
   "execution_count": 12,
   "id": "b343a1b0-536c-43db-8d31-386e44f36faa",
   "metadata": {},
   "outputs": [],
   "source": [
    "#division"
   ]
  },
  {
   "cell_type": "code",
   "execution_count": 13,
   "id": "cf6ee116-3cf7-4927-a8b4-e2a6a74833d7",
   "metadata": {},
   "outputs": [
    {
     "name": "stdout",
     "output_type": "stream",
     "text": [
      "14\n"
     ]
    }
   ],
   "source": [
    "a=76\n",
    "b=31\n",
    "print(a%b)"
   ]
  },
  {
   "cell_type": "code",
   "execution_count": 14,
   "id": "082e0c8e-09e7-43ef-aa5e-47897be08218",
   "metadata": {},
   "outputs": [
    {
     "name": "stdout",
     "output_type": "stream",
     "text": [
      "float div 2.4516129032258065\n"
     ]
    }
   ],
   "source": [
    "a=76\n",
    "b=31\n",
    "c=a/b\n",
    "print(\"float div\",c)"
   ]
  },
  {
   "cell_type": "code",
   "execution_count": 15,
   "id": "bebccb8a-7fc5-4b78-ad1a-a55b8c3dbea4",
   "metadata": {},
   "outputs": [],
   "source": [
    "#floor div"
   ]
  },
  {
   "cell_type": "code",
   "execution_count": 16,
   "id": "3f0a9ca5-3be6-4f1b-a175-1241e6010bfc",
   "metadata": {},
   "outputs": [
    {
     "name": "stdout",
     "output_type": "stream",
     "text": [
      "floor div 2\n"
     ]
    }
   ],
   "source": [
    "a=76\n",
    "b=31\n",
    "c=a//b\n",
    "print(\"floor div\",c)"
   ]
  },
  {
   "cell_type": "code",
   "execution_count": 17,
   "id": "17f0aea1-9526-44c5-b0ad-8fce2a7278a3",
   "metadata": {},
   "outputs": [],
   "source": [
    "#modulo"
   ]
  },
  {
   "cell_type": "code",
   "execution_count": 18,
   "id": "ef49043f-8512-4612-86b6-2e9685255cea",
   "metadata": {},
   "outputs": [
    {
     "name": "stdin",
     "output_type": "stream",
     "text": [
      "enter num1: 23\n",
      "enter num2: 56\n"
     ]
    },
    {
     "name": "stdout",
     "output_type": "stream",
     "text": [
      "2\n"
     ]
    }
   ],
   "source": [
    "a=int(input(\"enter num1:\"))\n",
    "b=int(input(\"enter num2:\"))\n",
    "c-a%b\n",
    "print(c)"
   ]
  },
  {
   "cell_type": "code",
   "execution_count": 19,
   "id": "88d53ab2-00bc-4dcb-a845-c4dbee55af7e",
   "metadata": {},
   "outputs": [],
   "source": [
    "#power"
   ]
  },
  {
   "cell_type": "code",
   "execution_count": 20,
   "id": "f6713512-47ab-41f1-8d72-ef417169f502",
   "metadata": {},
   "outputs": [
    {
     "name": "stdout",
     "output_type": "stream",
     "text": [
      "256\n"
     ]
    }
   ],
   "source": [
    "a=4\n",
    "b=4\n",
    "print(a**b)"
   ]
  },
  {
   "cell_type": "code",
   "execution_count": null,
   "id": "64b26b90-360e-48a1-9199-9301fff54bd8",
   "metadata": {},
   "outputs": [],
   "source": []
  }
 ],
 "metadata": {
  "kernelspec": {
   "display_name": "Python 3 (ipykernel)",
   "language": "python",
   "name": "python3"
  },
  "language_info": {
   "codemirror_mode": {
    "name": "ipython",
    "version": 3
   },
   "file_extension": ".py",
   "mimetype": "text/x-python",
   "name": "python",
   "nbconvert_exporter": "python",
   "pygments_lexer": "ipython3",
   "version": "3.11.7"
  }
 },
 "nbformat": 4,
 "nbformat_minor": 5
}

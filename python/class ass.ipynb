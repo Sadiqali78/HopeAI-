{
 "cells": [
  {
   "cell_type": "code",
   "execution_count": 1,
   "id": "c55de07a-21f8-4c07-b5c5-b072e7aa60c0",
   "metadata": {},
   "outputs": [],
   "source": [
    "#subfilds"
   ]
  },
  {
   "cell_type": "code",
   "execution_count": 2,
   "id": "5ebb5030-f9cc-4685-9ee5-acc11fbe6614",
   "metadata": {},
   "outputs": [],
   "source": [
    "class subfieldAI():\n",
    "    def subfield():\n",
    "        print(\"sub field in AI are:\")\n",
    "        a=[\"machine learning\",\"neural network\",\"vision\",\"robotics\",\"speech procesing\",\"natural language process\"]\n",
    "        for i in a:\n",
    "            print(i)"
   ]
  },
  {
   "cell_type": "code",
   "execution_count": 3,
   "id": "7d3d7875-1320-4036-8fe7-7d97b87370ec",
   "metadata": {},
   "outputs": [],
   "source": [
    "#odd or evevn"
   ]
  },
  {
   "cell_type": "code",
   "execution_count": 4,
   "id": "d6488922-3f97-48ce-8192-875262bbf45b",
   "metadata": {},
   "outputs": [],
   "source": [
    "class oddoreven():\n",
    "    def oddEven():\n",
    "        Num1=int(input(\"Enter a number :\"))\n",
    "        if((Num1%2)==0):\n",
    "            print(Num1,\"is Even number\")\n",
    "            msg=\"The Entered number is EVEN\"\n",
    "        else:\n",
    "             print(Num1,\"is odd number\")\n",
    "             msg=\"The Entered number id ODD\"\n",
    "             return msg"
   ]
  },
  {
   "cell_type": "code",
   "execution_count": 5,
   "id": "ace43b4c-3d9e-494f-938c-41b394ee8b8b",
   "metadata": {},
   "outputs": [],
   "source": [
    "#eligity to marriage"
   ]
  },
  {
   "cell_type": "code",
   "execution_count": 6,
   "id": "1d516554-f4d4-40cd-9b6c-1d45cec1dbb8",
   "metadata": {},
   "outputs": [],
   "source": [
    "class eligibity():\n",
    "    def eligibility():\n",
    "         gender = input(\"Your gender: \")\n",
    "         age = int(input(\"Your age: \"))\n",
    "         if gender == \"male\":\n",
    "            if age > 18:\n",
    "               print(\"You are eligible\")\n",
    "            else:\n",
    "               print(\"You are not eligible\")\n",
    "         elif gender == \"female\":\n",
    "             if age > 15:\n",
    "                print(\"You are eligible\")\n",
    "             else:\n",
    "                print(\"You are not eligible\")\n",
    "         else:\n",
    "             print(\"Invalid input\")"
   ]
  },
  {
   "cell_type": "code",
   "execution_count": 7,
   "id": "88446c45-00ba-4a31-b816-0935a61956cc",
   "metadata": {},
   "outputs": [],
   "source": [
    "#percentage of student"
   ]
  },
  {
   "cell_type": "code",
   "execution_count": 8,
   "id": "66a674b7-bd88-4020-9fd9-7bcc47ff4c64",
   "metadata": {},
   "outputs": [],
   "source": [
    "class percentage():\n",
    "    def student():\n",
    "        sub1=int(input(\"sub1\"))\n",
    "        sub2=int(input(\"sub2\"))\n",
    "        sub3 =int(input(\"sub3\"))\n",
    "        sub4=int(input(\"sub4\"))\n",
    "        sub5=int(input(\"sub5\"))  \n",
    "        total=sub1+sub2+sub3+sub4+sub5\n",
    "        print(\"total\",total)\n",
    "        percentage=(total/500)*100\n",
    "        print(\"percentage:\",percentage)"
   ]
  },
  {
   "cell_type": "code",
   "execution_count": 9,
   "id": "d778de4b-0211-4dc0-83d1-2dfacf39d85f",
   "metadata": {},
   "outputs": [],
   "source": [
    "#perimeter"
   ]
  },
  {
   "cell_type": "code",
   "execution_count": 10,
   "id": "32f9aebc-943f-4aea-8954-a1565ac167ec",
   "metadata": {},
   "outputs": [],
   "source": [
    "class perimeter():\n",
    "    def triangle():\n",
    "     \n",
    "        height=int(input(\"height:\"))\n",
    "        breath=int(input(\"breath:\"))\n",
    "        print(\"area of formula: (height*breath)/2\")\n",
    "        triangle=(height*breath)/2\n",
    "        print(\"area of trianglr:\",triangle)\n",
    "        height1=int(input(\"height1:\"))\n",
    "        height2=int(input(\"height2:\"))\n",
    "        breath=int(input(\"breath:\"))\n",
    "        perimeter=height1+height2+breath\n",
    "        print(\"perimeter frmula: height1+height2+breath\")\n",
    "        print(\"perimeter of triangle:\",perimeter)"
   ]
  },
  {
   "cell_type": "code",
   "execution_count": 11,
   "id": "11dfb533-d26e-41ae-83de-ab32aaf70428",
   "metadata": {},
   "outputs": [],
   "source": [
    "# class_outputs"
   ]
  },
  {
   "cell_type": "code",
   "execution_count": 12,
   "id": "25da4d3e-e849-4fe7-b694-4afdd93f7def",
   "metadata": {},
   "outputs": [
    {
     "name": "stdout",
     "output_type": "stream",
     "text": [
      "sub field in AI are:\n",
      "machine learning\n",
      "neural network\n",
      "vision\n",
      "robotics\n",
      "speech procesing\n",
      "natural language process\n"
     ]
    }
   ],
   "source": [
    "subfieldAI.subfield()\n"
   ]
  },
  {
   "cell_type": "code",
   "execution_count": 13,
   "id": "9b942185-404b-404e-afe8-ea43ed70eaf4",
   "metadata": {},
   "outputs": [
    {
     "name": "stdin",
     "output_type": "stream",
     "text": [
      "Enter a number : 485\n"
     ]
    },
    {
     "name": "stdout",
     "output_type": "stream",
     "text": [
      "485 is odd number\n"
     ]
    },
    {
     "data": {
      "text/plain": [
       "'The Entered number id ODD'"
      ]
     },
     "execution_count": 13,
     "metadata": {},
     "output_type": "execute_result"
    }
   ],
   "source": [
    "oddoreven.oddEven()"
   ]
  },
  {
   "cell_type": "code",
   "execution_count": 14,
   "id": "f05e63a6-84ab-4491-91aa-847f948f4ef8",
   "metadata": {},
   "outputs": [
    {
     "name": "stdin",
     "output_type": "stream",
     "text": [
      "Your gender:  male\n",
      "Your age:  11\n"
     ]
    },
    {
     "name": "stdout",
     "output_type": "stream",
     "text": [
      "You are not eligible\n"
     ]
    }
   ],
   "source": [
    "eligibity.eligibility()"
   ]
  },
  {
   "cell_type": "code",
   "execution_count": 15,
   "id": "5f95fd4b-1e61-4294-a20e-acaf9648e417",
   "metadata": {},
   "outputs": [
    {
     "name": "stdin",
     "output_type": "stream",
     "text": [
      "sub1 78\n",
      "sub2 45\n",
      "sub3 12\n",
      "sub4 98\n",
      "sub5 69\n"
     ]
    },
    {
     "name": "stdout",
     "output_type": "stream",
     "text": [
      "total 302\n",
      "percentage: 60.4\n"
     ]
    }
   ],
   "source": [
    "percentage.student()"
   ]
  },
  {
   "cell_type": "code",
   "execution_count": 16,
   "id": "d5de49e4-455b-429f-9e49-54ade4093c5c",
   "metadata": {},
   "outputs": [
    {
     "name": "stdin",
     "output_type": "stream",
     "text": [
      "height: 32\n",
      "breath: 34\n"
     ]
    },
    {
     "name": "stdout",
     "output_type": "stream",
     "text": [
      "area of formula: (height*breath)/2\n",
      "area of trianglr: 544.0\n"
     ]
    },
    {
     "name": "stdin",
     "output_type": "stream",
     "text": [
      "height1: 2\n",
      "height2: 4\n",
      "breath: 4\n"
     ]
    },
    {
     "name": "stdout",
     "output_type": "stream",
     "text": [
      "perimeter frmula: height1+height2+breath\n",
      "perimeter of triangle: 10\n"
     ]
    }
   ],
   "source": [
    "perimeter.triangle()"
   ]
  }
 ],
 "metadata": {
  "kernelspec": {
   "display_name": "Python 3 (ipykernel)",
   "language": "python",
   "name": "python3"
  },
  "language_info": {
   "codemirror_mode": {
    "name": "ipython",
    "version": 3
   },
   "file_extension": ".py",
   "mimetype": "text/x-python",
   "name": "python",
   "nbconvert_exporter": "python",
   "pygments_lexer": "ipython3",
   "version": "3.11.7"
  }
 },
 "nbformat": 4,
 "nbformat_minor": 5
}

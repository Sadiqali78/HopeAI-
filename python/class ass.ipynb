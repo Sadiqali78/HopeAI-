{
 "cells": [
  {
   "cell_type": "code",
   "execution_count": 1,
   "id": "5ebb5030-f9cc-4685-9ee5-acc11fbe6614",
   "metadata": {},
   "outputs": [
    {
     "name": "stdout",
     "output_type": "stream",
     "text": [
      "sub field in AI are:\n",
      "machine learning\n",
      "neural network\n",
      "vision\n",
      "robotics\n",
      "speech procesing\n",
      "natural language process\n"
     ]
    }
   ],
   "source": [
    "class subfieldAI():\n",
    "    def subfield():\n",
    "        print(\"sub field in AI are:\")\n",
    "        a=[\"machine learning\",\"neural network\",\"vision\",\"robotics\",\"speech procesing\",\"natural language process\"]\n",
    "        for i in a:\n",
    "            print(i)\n",
    "subfieldAI.subfield()"
   ]
  },
  {
   "cell_type": "code",
   "execution_count": 2,
   "id": "d6488922-3f97-48ce-8192-875262bbf45b",
   "metadata": {},
   "outputs": [
    {
     "name": "stdin",
     "output_type": "stream",
     "text": [
      "Enter a number : 78\n"
     ]
    },
    {
     "name": "stdout",
     "output_type": "stream",
     "text": [
      "78 is Even number\n"
     ]
    }
   ],
   "source": [
    "class oddoreven():\n",
    "    def oddEven():\n",
    "        Num1=int(input(\"Enter a number :\"))\n",
    "        if((Num1%2)==0):\n",
    "            print(Num1,\"is Even number\")\n",
    "            msg=\"The Entered number is EVEN\"\n",
    "        else:\n",
    "             print(Num1,\"is odd number\")\n",
    "             msg=\"The Entered number id ODD\"\n",
    "             return msg\n",
    "oddoreven.oddEven()\n"
   ]
  },
  {
   "cell_type": "code",
   "execution_count": 3,
   "id": "1d516554-f4d4-40cd-9b6c-1d45cec1dbb8",
   "metadata": {},
   "outputs": [
    {
     "name": "stdin",
     "output_type": "stream",
     "text": [
      "Your gender:  male\n",
      "Your age:  45\n"
     ]
    },
    {
     "name": "stdout",
     "output_type": "stream",
     "text": [
      "You are eligible\n"
     ]
    }
   ],
   "source": [
    "class eligibity():\n",
    "    def eligibility():\n",
    "         gender = input(\"Your gender: \")\n",
    "         age = int(input(\"Your age: \"))\n",
    "         if gender == \"male\":\n",
    "            if age > 18:\n",
    "               print(\"You are eligible\")\n",
    "            else:\n",
    "               print(\"You are not eligible\")\n",
    "         elif gender == \"female\":\n",
    "             if age > 15:\n",
    "                print(\"You are eligible\")\n",
    "             else:\n",
    "                print(\"You are not eligible\")\n",
    "         else:\n",
    "             print(\"Invalid input\")\n",
    "\n",
    "eligibity.eligibility()"
   ]
  },
  {
   "cell_type": "code",
   "execution_count": 4,
   "id": "66a674b7-bd88-4020-9fd9-7bcc47ff4c64",
   "metadata": {},
   "outputs": [
    {
     "name": "stdin",
     "output_type": "stream",
     "text": [
      "sub1 86\n",
      "sub2 78\n",
      "sub3 69\n",
      "sub4 69\n",
      "sub5 60\n"
     ]
    },
    {
     "name": "stdout",
     "output_type": "stream",
     "text": [
      "total 362\n",
      "percentage: 72.39999999999999\n"
     ]
    }
   ],
   "source": [
    "class percentage():\n",
    "    def student():\n",
    "        sub1=int(input(\"sub1\"))\n",
    "        sub2=int(input(\"sub2\"))\n",
    "        sub3 =int(input(\"sub3\"))\n",
    "        sub4=int(input(\"sub4\"))\n",
    "        sub5=int(input(\"sub5\"))  \n",
    "        total=sub1+sub2+sub3+sub4+sub5\n",
    "        print(\"total\",total)\n",
    "        percentage=(total/500)*100\n",
    "        print(\"percentage:\",percentage)\n",
    "\n",
    "percentage.student()"
   ]
  },
  {
   "cell_type": "code",
   "execution_count": 5,
   "id": "32f9aebc-943f-4aea-8954-a1565ac167ec",
   "metadata": {},
   "outputs": [
    {
     "name": "stdin",
     "output_type": "stream",
     "text": [
      "height: 6\n",
      "breath: 5\n"
     ]
    },
    {
     "name": "stdout",
     "output_type": "stream",
     "text": [
      "area of formula: (height*breath)/2\n",
      "area of trianglr: 15.0\n"
     ]
    },
    {
     "name": "stdin",
     "output_type": "stream",
     "text": [
      "height1: 5\n",
      "height2: 6\n",
      "breath: 25\n"
     ]
    },
    {
     "name": "stdout",
     "output_type": "stream",
     "text": [
      "perimeter frmula: height1+height2+breath\n",
      "perimeter of triangle: 36\n"
     ]
    }
   ],
   "source": [
    "class perimeter():\n",
    "    def triangle():\n",
    "     \n",
    "        height=int(input(\"height:\"))\n",
    "        breath=int(input(\"breath:\"))\n",
    "        print(\"area of formula: (height*breath)/2\")\n",
    "        triangle=(height*breath)/2\n",
    "        print(\"area of trianglr:\",triangle)\n",
    "        height1=int(input(\"height1:\"))\n",
    "        height2=int(input(\"height2:\"))\n",
    "        breath=int(input(\"breath:\"))\n",
    "        perimeter=height1+height2+breath\n",
    "        print(\"perimeter frmula: height1+height2+breath\")\n",
    "        print(\"perimeter of triangle:\",perimeter)\n",
    "\n",
    "perimeter.triangle()\n",
    "    "
   ]
  },
  {
   "cell_type": "code",
   "execution_count": null,
   "id": "11dfb533-d26e-41ae-83de-ab32aaf70428",
   "metadata": {},
   "outputs": [],
   "source": []
  }
 ],
 "metadata": {
  "kernelspec": {
   "display_name": "Python 3 (ipykernel)",
   "language": "python",
   "name": "python3"
  },
  "language_info": {
   "codemirror_mode": {
    "name": "ipython",
    "version": 3
   },
   "file_extension": ".py",
   "mimetype": "text/x-python",
   "name": "python",
   "nbconvert_exporter": "python",
   "pygments_lexer": "ipython3",
   "version": "3.11.7"
  }
 },
 "nbformat": 4,
 "nbformat_minor": 5
}

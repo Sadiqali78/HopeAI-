{
 "cells": [
  {
   "cell_type": "code",
   "execution_count": 1,
   "id": "b1d494e4-d0b0-43b9-a4fd-eaf0539abddc",
   "metadata": {},
   "outputs": [],
   "source": [
    "#printing 0 to 20"
   ]
  },
  {
   "cell_type": "code",
   "execution_count": 2,
   "id": "1301b7d3-d5da-41b7-b210-5bd77758bb69",
   "metadata": {},
   "outputs": [
    {
     "name": "stdout",
     "output_type": "stream",
     "text": [
      "0\n",
      "1\n",
      "2\n",
      "3\n",
      "4\n",
      "5\n",
      "6\n",
      "7\n",
      "8\n",
      "9\n",
      "10\n",
      "11\n",
      "12\n",
      "13\n",
      "14\n",
      "15\n",
      "16\n",
      "17\n",
      "18\n",
      "19\n",
      "20\n"
     ]
    }
   ],
   "source": [
    "for i in range(0,21):\n",
    "    print(i)"
   ]
  },
  {
   "cell_type": "code",
   "execution_count": 3,
   "id": "89194528-b5e0-4bd8-ae97-a8982ccdaa39",
   "metadata": {},
   "outputs": [],
   "source": [
    "#printing range 10 to 20"
   ]
  },
  {
   "cell_type": "code",
   "execution_count": 4,
   "id": "8ca1b68b-2164-4aed-996b-c544686076bd",
   "metadata": {},
   "outputs": [
    {
     "name": "stdout",
     "output_type": "stream",
     "text": [
      "10,11,12,13,14,15,16,17,18,19,20,"
     ]
    }
   ],
   "source": [
    "for i in range(10,21):\n",
    "    print(i,end=\",\")"
   ]
  },
  {
   "cell_type": "code",
   "execution_count": 5,
   "id": "4d5ea586-bce4-4f2c-88b2-4a7d5087e789",
   "metadata": {},
   "outputs": [],
   "source": [
    "#printing the lenth of thev list"
   ]
  },
  {
   "cell_type": "code",
   "execution_count": 6,
   "id": "d32f68ca-add4-4779-bc83-0ce31ac655df",
   "metadata": {},
   "outputs": [
    {
     "name": "stdout",
     "output_type": "stream",
     "text": [
      "[10, 20, 14, 55, 22, 66, 89]\n",
      "number of items in list is: 7\n"
     ]
    }
   ],
   "source": [
    "num1=[10,20,14,55,22,66,89]\n",
    "print(num1)\n",
    "print(\"number of items in list is:\",len(num1))"
   ]
  },
  {
   "cell_type": "code",
   "execution_count": 7,
   "id": "76c0b0bd-e4ff-4eb0-96d9-4bd2ec36cbf6",
   "metadata": {},
   "outputs": [],
   "source": [
    "#artifial intelligence using for loop"
   ]
  },
  {
   "cell_type": "code",
   "execution_count": 8,
   "id": "aef4a36f-c6e6-4822-aa8c-96c59bc86c0c",
   "metadata": {},
   "outputs": [
    {
     "name": "stdout",
     "output_type": "stream",
     "text": [
      "artificial intelligence\n",
      "a\n",
      "r\n",
      "t\n",
      "i\n",
      "f\n",
      "i\n",
      "c\n",
      "i\n",
      "a\n",
      "l\n",
      " \n",
      "i\n",
      "n\n",
      "t\n",
      "e\n",
      "l\n",
      "l\n",
      "i\n",
      "g\n",
      "e\n",
      "n\n",
      "c\n",
      "e\n"
     ]
    }
   ],
   "source": [
    "ai=\"artificial intelligence\"\n",
    "print(ai)\n",
    "for i in ai:\n",
    "    print(i)"
   ]
  },
  {
   "cell_type": "code",
   "execution_count": 9,
   "id": "6d45fdc2-8c8e-41c0-8269-da26f2876d50",
   "metadata": {},
   "outputs": [],
   "source": [
    "#printing"
   ]
  },
  {
   "cell_type": "code",
   "execution_count": 10,
   "id": "a6295b6f-b54b-4668-ad16-73c259c0db15",
   "metadata": {},
   "outputs": [
    {
     "name": "stdout",
     "output_type": "stream",
     "text": [
      "-your name-\n",
      "-your age-\n",
      "-your profession-\n"
     ]
    }
   ],
   "source": [
    "print(\"-your name-\")\n",
    "print(\"-your age-\")\n",
    "print(\"-your profession-\")"
   ]
  },
  {
   "cell_type": "code",
   "execution_count": 11,
   "id": "86261ba3-0547-4451-b2a9-e3c739a5d131",
   "metadata": {},
   "outputs": [],
   "source": [
    "# using for loop"
   ]
  },
  {
   "cell_type": "code",
   "execution_count": 12,
   "id": "ff64888b-e622-4d62-bf0b-015eed0a18f3",
   "metadata": {},
   "outputs": [
    {
     "name": "stdout",
     "output_type": "stream",
     "text": [
      "-your name-\n",
      "-your age-\n",
      "-your profession-\n"
     ]
    }
   ],
   "source": [
    "k=[\"-your name-\",\"-your age-\",\"-your profession-\"]\n",
    "for i in k:\n",
    "    print(i)"
   ]
  },
  {
   "cell_type": "code",
   "execution_count": 13,
   "id": "fa8b08b5-fbea-4a46-a68e-ba22fa70ed7a",
   "metadata": {},
   "outputs": [],
   "source": [
    "#tuple"
   ]
  },
  {
   "cell_type": "code",
   "execution_count": 14,
   "id": "e25f6106-57af-4e1b-b885-74a43391211c",
   "metadata": {},
   "outputs": [
    {
     "name": "stdout",
     "output_type": "stream",
     "text": [
      "(1, 'welcome', 2, 'hope')\n"
     ]
    }
   ],
   "source": [
    "tup1=(1,'welcome')\n",
    "tup2=(2,'hope')\n",
    "tuple3=(tup1+tup2)\n",
    "print(tuple3)"
   ]
  },
  {
   "cell_type": "code",
   "execution_count": 15,
   "id": "e32a187a-7d47-4f87-8fa7-c9d599229dfa",
   "metadata": {},
   "outputs": [],
   "source": [
    "#tupl2"
   ]
  },
  {
   "cell_type": "code",
   "execution_count": 16,
   "id": "1978de5f-05bf-4bca-9cfa-482f685c2b14",
   "metadata": {},
   "outputs": [
    {
     "name": "stdout",
     "output_type": "stream",
     "text": [
      "((0, 1, 2, 3), ('python', 'hope'))\n"
     ]
    }
   ],
   "source": [
    "tup4=(0,1,2,3)\n",
    "tup5=('python','hope')\n",
    "tuple6=(tup4,tup5)\n",
    "print(tuple6)"
   ]
  },
  {
   "cell_type": "code",
   "execution_count": 17,
   "id": "ca4cac8e-5fa4-4ba0-98ae-034da07ab70a",
   "metadata": {},
   "outputs": [],
   "source": [
    "#printinng odd number in list"
   ]
  },
  {
   "cell_type": "code",
   "execution_count": 18,
   "id": "34dc57fa-4021-40a6-88da-6a812c721a43",
   "metadata": {},
   "outputs": [
    {
     "name": "stdout",
     "output_type": "stream",
     "text": [
      "(20, 10, 16, 19, 25, 1, 276, 188)\n",
      "19 is odd\n",
      "25 is odd\n",
      "1 is odd\n"
     ]
    }
   ],
   "source": [
    "b = (20, 10, 16, 19, 25, 1, 276, 188)\n",
    "print(\"(20, 10, 16, 19, 25, 1, 276, 188)\")\n",
    "for tp in b:\n",
    "    if tp % 2 == 1:\n",
    "        print(tp,\"is odd\")  \n",
    "\n"
   ]
  },
  {
   "cell_type": "code",
   "execution_count": 19,
   "id": "da8121d2-c4a6-444e-87be-56d63cef776a",
   "metadata": {},
   "outputs": [],
   "source": [
    "#printing the even num"
   ]
  },
  {
   "cell_type": "code",
   "execution_count": 20,
   "id": "88d6dee0-8160-4a72-ae37-d66df53c7131",
   "metadata": {},
   "outputs": [
    {
     "name": "stdout",
     "output_type": "stream",
     "text": [
      "20, 10, 16, 19, 25, 1, 276, 188)\n",
      "20 is even\n",
      "10 is even\n",
      "16 is even\n",
      "276 is even\n",
      "188 is even\n"
     ]
    }
   ],
   "source": [
    "c = (20, 10, 16, 19, 25, 1, 276, 188)\n",
    "print(\"20, 10, 16, 19, 25, 1, 276, 188)\")\n",
    "for d in c:\n",
    "    if d%2==0:\n",
    "        print(d,\"is even\")\n"
   ]
  },
  {
   "cell_type": "code",
   "execution_count": null,
   "id": "60906d14-5245-425d-855b-2a4462e64c4f",
   "metadata": {},
   "outputs": [],
   "source": []
  }
 ],
 "metadata": {
  "kernelspec": {
   "display_name": "Python 3 (ipykernel)",
   "language": "python",
   "name": "python3"
  },
  "language_info": {
   "codemirror_mode": {
    "name": "ipython",
    "version": 3
   },
   "file_extension": ".py",
   "mimetype": "text/x-python",
   "name": "python",
   "nbconvert_exporter": "python",
   "pygments_lexer": "ipython3",
   "version": "3.11.7"
  }
 },
 "nbformat": 4,
 "nbformat_minor": 5
}

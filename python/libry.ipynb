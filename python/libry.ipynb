{
 "cells": [
  {
   "cell_type": "code",
   "execution_count": 1,
   "id": "d2382a9f-205f-41d1-8a71-fd4777a34be7",
   "metadata": {},
   "outputs": [],
   "source": [
    "#eligibity"
   ]
  },
  {
   "cell_type": "code",
   "execution_count": 2,
   "id": "1047b02f-72d2-43ae-9ec1-e3740ee26b0c",
   "metadata": {},
   "outputs": [
    {
     "name": "stdin",
     "output_type": "stream",
     "text": [
      "Your gender (male/female):  male\n",
      "Your age:  28\n"
     ]
    },
    {
     "name": "stdout",
     "output_type": "stream",
     "text": [
      "You are eligible\n"
     ]
    }
   ],
   "source": [
    "from dummy import Eligibility\n",
    "Eligibility.check_eligibility()\n"
   ]
  },
  {
   "cell_type": "code",
   "execution_count": 3,
   "id": "890f27d8-715c-4cfc-8ce9-af6e71e3e968",
   "metadata": {},
   "outputs": [],
   "source": [
    "#odd or evem"
   ]
  },
  {
   "cell_type": "code",
   "execution_count": 4,
   "id": "0f27e007-b497-4d5b-a27b-57bc705abf54",
   "metadata": {},
   "outputs": [
    {
     "name": "stdin",
     "output_type": "stream",
     "text": [
      "Enter a number:  45684\n"
     ]
    },
    {
     "name": "stdout",
     "output_type": "stream",
     "text": [
      "45684 is an Even number\n"
     ]
    }
   ],
   "source": [
    "from dummy import OddOrEven\n",
    "OddOrEven.check_odd_even()"
   ]
  },
  {
   "cell_type": "code",
   "execution_count": 5,
   "id": "9430e09a-4654-4a08-9e6a-3fc5e9c03ae9",
   "metadata": {},
   "outputs": [],
   "source": [
    "#perimeter"
   ]
  },
  {
   "cell_type": "code",
   "execution_count": 6,
   "id": "7bafb46b-5f80-4466-8e95-5909e5380646",
   "metadata": {},
   "outputs": [
    {
     "name": "stdin",
     "output_type": "stream",
     "text": [
      "Height:  45\n",
      "Breadth:  25\n"
     ]
    },
    {
     "name": "stdout",
     "output_type": "stream",
     "text": [
      "Area formula: (height * breadth) / 2\n",
      "Area of triangle: 562.5\n"
     ]
    },
    {
     "name": "stdin",
     "output_type": "stream",
     "text": [
      "Side 1:  45\n",
      "Side 2:  58\n",
      "Base:  5\n"
     ]
    },
    {
     "name": "stdout",
     "output_type": "stream",
     "text": [
      "Perimeter formula: side1 + side2 + base\n",
      "Perimeter of triangle: 108\n"
     ]
    }
   ],
   "source": [
    "from dummy import Perimeter\n",
    "Perimeter.calculate_triangle()"
   ]
  },
  {
   "cell_type": "code",
   "execution_count": 7,
   "id": "fb901a34-aad3-4a7a-9838-d22fdcf6861e",
   "metadata": {},
   "outputs": [
    {
     "name": "stdout",
     "output_type": "stream",
     "text": [
      "Subfields in AI are:\n",
      "Machine Learning\n",
      "Neural Networks\n",
      "Computer Vision\n",
      "Robotics\n",
      "Speech Processing\n",
      "Natural Language Processing\n"
     ]
    }
   ],
   "source": [
    "from dummy import SubfieldAI\n",
    "SubfieldAI.subfield()"
   ]
  },
  {
   "cell_type": "code",
   "execution_count": 8,
   "id": "a989de08-a4bc-4844-8eed-41f801e24d20",
   "metadata": {},
   "outputs": [
    {
     "name": "stdin",
     "output_type": "stream",
     "text": [
      "Enter marks for subject 1:  98\n",
      "Enter marks for subject 2:  89\n",
      "Enter marks for subject 3:  78\n",
      "Enter marks for subject 4:  87\n",
      "Enter marks for subject 5:  67\n"
     ]
    },
    {
     "name": "stdout",
     "output_type": "stream",
     "text": [
      "Total marks: 419\n",
      "Percentage: 83.8\n"
     ]
    }
   ],
   "source": [
    "from dummy import Percentage\n",
    "Percentage.student()"
   ]
  },
  {
   "cell_type": "code",
   "execution_count": null,
   "id": "090a8870-4ac5-41df-8482-70b40a948e10",
   "metadata": {},
   "outputs": [],
   "source": []
  }
 ],
 "metadata": {
  "kernelspec": {
   "display_name": "Python 3 (ipykernel)",
   "language": "python",
   "name": "python3"
  },
  "language_info": {
   "codemirror_mode": {
    "name": "ipython",
    "version": 3
   },
   "file_extension": ".py",
   "mimetype": "text/x-python",
   "name": "python",
   "nbconvert_exporter": "python",
   "pygments_lexer": "ipython3",
   "version": "3.11.7"
  }
 },
 "nbformat": 4,
 "nbformat_minor": 5
}

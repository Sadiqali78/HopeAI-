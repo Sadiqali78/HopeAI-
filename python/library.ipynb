{
 "cells": [
  {
   "cell_type": "code",
   "execution_count": 1,
   "id": "5160d1d2-3185-46b0-8c8b-5f3f343846df",
   "metadata": {},
   "outputs": [
    {
     "name": "stdin",
     "output_type": "stream",
     "text": [
      "Your gender (male/female):  female\n",
      "Your age:  15\n"
     ]
    },
    {
     "name": "stdout",
     "output_type": "stream",
     "text": [
      "You are not eligible\n"
     ]
    }
   ],
   "source": [
    "from dummy import Library\n",
    "lib = Library()\n",
    "lib.check_eligibility()\n"
   ]
  },
  {
   "cell_type": "code",
   "execution_count": 3,
   "id": "77c5c950-47ec-44df-84e8-59e72cc0b928",
   "metadata": {},
   "outputs": [
    {
     "name": "stdin",
     "output_type": "stream",
     "text": [
      "Height:  7\n",
      "Breadth:  4\n"
     ]
    },
    {
     "name": "stdout",
     "output_type": "stream",
     "text": [
      "Area formula: (height * breadth) / 2\n",
      "Area of triangle: 14.0\n"
     ]
    },
    {
     "name": "stdin",
     "output_type": "stream",
     "text": [
      "Side 1:  5\n",
      "Side 2:  4\n",
      "Base:  5\n"
     ]
    },
    {
     "name": "stdout",
     "output_type": "stream",
     "text": [
      "Perimeter formula: side1 + side2 + base\n",
      "Perimeter of triangle: 14\n"
     ]
    }
   ],
   "source": [
    "lib.calculate_triangle()"
   ]
  },
  {
   "cell_type": "code",
   "execution_count": 4,
   "id": "f97a830d-59f7-4595-bd3d-1673ceeb49ef",
   "metadata": {},
   "outputs": [
    {
     "name": "stdout",
     "output_type": "stream",
     "text": [
      "Subfields in AI are:\n",
      "Machine Learning\n",
      "Neural Networks\n",
      "Computer Vision\n",
      "Robotics\n",
      "Speech Processing\n",
      "Natural Language Processing\n"
     ]
    }
   ],
   "source": [
    "lib.subfield()"
   ]
  },
  {
   "cell_type": "code",
   "execution_count": 5,
   "id": "12efdedf-ddf8-4f75-b47c-a25e863d9da7",
   "metadata": {},
   "outputs": [
    {
     "name": "stdin",
     "output_type": "stream",
     "text": [
      "Enter marks for subject 1:  78\n",
      "Enter marks for subject 2:  9\n",
      "Enter marks for subject 3:  8\n",
      "Enter marks for subject 4:  5\n",
      "Enter marks for subject 5:  8\n"
     ]
    },
    {
     "name": "stdout",
     "output_type": "stream",
     "text": [
      "total 108\n",
      "percentage: 21.6\n"
     ]
    }
   ],
   "source": [
    "lib. student()"
   ]
  },
  {
   "cell_type": "code",
   "execution_count": 6,
   "id": "371b6fff-37e5-4a0b-9ec6-72b0cf5d6566",
   "metadata": {},
   "outputs": [
    {
     "name": "stdin",
     "output_type": "stream",
     "text": [
      "Enter a number:  44554\n"
     ]
    },
    {
     "name": "stdout",
     "output_type": "stream",
     "text": [
      "44554 is an Even number\n"
     ]
    }
   ],
   "source": [
    "lib.check_odd_even()"
   ]
  },
  {
   "cell_type": "code",
   "execution_count": null,
   "id": "ae837baa-e8b5-4c0e-85b0-b2a5747c9a4e",
   "metadata": {},
   "outputs": [],
   "source": []
  }
 ],
 "metadata": {
  "kernelspec": {
   "display_name": "Python 3 (ipykernel)",
   "language": "python",
   "name": "python3"
  },
  "language_info": {
   "codemirror_mode": {
    "name": "ipython",
    "version": 3
   },
   "file_extension": ".py",
   "mimetype": "text/x-python",
   "name": "python",
   "nbconvert_exporter": "python",
   "pygments_lexer": "ipython3",
   "version": "3.11.7"
  }
 },
 "nbformat": 4,
 "nbformat_minor": 5
}

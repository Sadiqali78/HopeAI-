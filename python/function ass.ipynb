{
 "cells": [
  {
   "cell_type": "code",
   "execution_count": 1,
   "id": "8f6db994-2753-464b-ae61-10e1a6dfc909",
   "metadata": {},
   "outputs": [],
   "source": [
    "#creating class and funtion"
   ]
  },
  {
   "cell_type": "code",
   "execution_count": 2,
   "id": "4d79ecdf-b3a8-4fc0-b75b-e77d05b927ae",
   "metadata": {},
   "outputs": [
    {
     "name": "stdout",
     "output_type": "stream",
     "text": [
      "sub field in AI are:\n",
      "machine learning\n",
      "neural network\n",
      "vision\n",
      "robotics\n",
      "speech procesing\n",
      "natural language process\n"
     ]
    }
   ],
   "source": [
    "def subfield():\n",
    "        print(\"sub field in AI are:\")\n",
    "        a=[\"machine learning\",\"neural network\",\"vision\",\"robotics\",\"speech procesing\",\"natural language process\"]\n",
    "        for i in a:\n",
    "            print(i)\n",
    "            \n",
    "subfield()  \n"
   ]
  },
  {
   "cell_type": "code",
   "execution_count": 3,
   "id": "5ccf392a-f363-4f7d-9bd4-f6aca98ece90",
   "metadata": {},
   "outputs": [],
   "source": [
    "#odd or even"
   ]
  },
  {
   "cell_type": "code",
   "execution_count": 4,
   "id": "4aa54c7f-ace4-4b7a-a326-e677a7b2cbc0",
   "metadata": {},
   "outputs": [
    {
     "name": "stdin",
     "output_type": "stream",
     "text": [
      "Enter a number : 25248855\n"
     ]
    },
    {
     "name": "stdout",
     "output_type": "stream",
     "text": [
      "25248855 is odd number\n"
     ]
    },
    {
     "data": {
      "text/plain": [
       "'The Entered number id ODD'"
      ]
     },
     "execution_count": 4,
     "metadata": {},
     "output_type": "execute_result"
    }
   ],
   "source": [
    "def oddEven():\n",
    "    Num1=int(input(\"Enter a number :\"))\n",
    "    if((Num1%2)==0):\n",
    "        print(Num1,\"is Even number\")\n",
    "        msg=\"The Entered number is EVEN\"\n",
    "    else:\n",
    "        print(Num1,\"is odd number\")\n",
    "        msg=\"The Entered number id ODD\"\n",
    "        return msg\n",
    "oddEven()"
   ]
  },
  {
   "cell_type": "code",
   "execution_count": 5,
   "id": "930ba428-834e-4d15-953e-ba2bad5689b9",
   "metadata": {},
   "outputs": [],
   "source": [
    "#eligibility"
   ]
  },
  {
   "cell_type": "code",
   "execution_count": 6,
   "id": "d045a787-023e-4612-9020-3b7036bcdefa",
   "metadata": {},
   "outputs": [
    {
     "name": "stdin",
     "output_type": "stream",
     "text": [
      "Your gender:  male\n",
      "Your age:  12\n"
     ]
    },
    {
     "name": "stdout",
     "output_type": "stream",
     "text": [
      "You are not eligible\n"
     ]
    }
   ],
   "source": [
    "def eligibility():\n",
    "    gender = input(\"Your gender: \")\n",
    "    age = int(input(\"Your age: \"))\n",
    "    if gender == \"male\":\n",
    "        if age > 18:\n",
    "            print(\"You are eligible\")\n",
    "        else:\n",
    "            print(\"You are not eligible\")\n",
    "    elif gender == \"female\":\n",
    "        if age > 15:\n",
    "            print(\"You are eligible\")\n",
    "        else:\n",
    "            print(\"You are not eligible\")\n",
    "    else:\n",
    "        print(\"Invalid input\")\n",
    "\n",
    "eligibility() \n"
   ]
  },
  {
   "cell_type": "code",
   "execution_count": 7,
   "id": "3f3d5301-6807-40be-bcd0-c98a4de16ded",
   "metadata": {},
   "outputs": [],
   "source": [
    "#student report"
   ]
  },
  {
   "cell_type": "code",
   "execution_count": 8,
   "id": "7921a077-405e-4b71-9899-a608405f3c74",
   "metadata": {},
   "outputs": [
    {
     "name": "stdin",
     "output_type": "stream",
     "text": [
      "sub1 78\n",
      "sub2 98\n",
      "sub3 94\n",
      "sub4 66\n",
      "sub5 90\n"
     ]
    },
    {
     "name": "stdout",
     "output_type": "stream",
     "text": [
      "total 426\n",
      "percentage: 85.2\n"
     ]
    }
   ],
   "source": [
    "def student():\n",
    "    sub1=int(input(\"sub1\"))\n",
    "    sub2=int(input(\"sub2\"))\n",
    "    sub3 =int(input(\"sub3\"))\n",
    "    sub4=int(input(\"sub4\"))\n",
    "    sub5=int(input(\"sub5\"))  \n",
    "    total=sub1+sub2+sub3+sub4+sub5\n",
    "    print(\"total\",total)\n",
    "    percentage=(total/500)*100\n",
    "    print(\"percentage:\",percentage)\n",
    "\n",
    "student()\n"
   ]
  },
  {
   "cell_type": "code",
   "execution_count": 9,
   "id": "5caaab37-7cd9-4fde-825d-ff615503eb5f",
   "metadata": {},
   "outputs": [],
   "source": [
    "#area of triangle"
   ]
  },
  {
   "cell_type": "code",
   "execution_count": 10,
   "id": "8097fd2c-d208-471c-a42f-96b415c93ef9",
   "metadata": {},
   "outputs": [
    {
     "name": "stdin",
     "output_type": "stream",
     "text": [
      "height: 6\n",
      "breath: 7\n"
     ]
    },
    {
     "name": "stdout",
     "output_type": "stream",
     "text": [
      "area of formula: (height*breath)/2\n",
      "area of trianglr: 21.0\n"
     ]
    },
    {
     "name": "stdin",
     "output_type": "stream",
     "text": [
      "height1: 4\n",
      "height2: 7\n",
      "breath: 45\n"
     ]
    },
    {
     "name": "stdout",
     "output_type": "stream",
     "text": [
      "perimeter frmula: height1+height2+breath\n",
      "perimeter of triangle: 56\n"
     ]
    }
   ],
   "source": [
    "def triangle():\n",
    "     \n",
    "    height=int(input(\"height:\"))\n",
    "    breath=int(input(\"breath:\"))\n",
    "    print(\"area of formula: (height*breath)/2\")\n",
    "    triangle=(height*breath)/2\n",
    "    print(\"area of trianglr:\",triangle)\n",
    "    height1=int(input(\"height1:\"))\n",
    "    height2=int(input(\"height2:\"))\n",
    "    breath=int(input(\"breath:\"))\n",
    "    perimeter=height1+height2+breath\n",
    "    print(\"perimeter frmula: height1+height2+breath\")\n",
    "    print(\"perimeter of triangle:\",perimeter)\n",
    "\n",
    "triangle()"
   ]
  },
  {
   "cell_type": "code",
   "execution_count": null,
   "id": "2be18dd4-eec4-4aa3-a739-5d9df6db3c91",
   "metadata": {},
   "outputs": [],
   "source": []
  }
 ],
 "metadata": {
  "kernelspec": {
   "display_name": "Python 3 (ipykernel)",
   "language": "python",
   "name": "python3"
  },
  "language_info": {
   "codemirror_mode": {
    "name": "ipython",
    "version": 3
   },
   "file_extension": ".py",
   "mimetype": "text/x-python",
   "name": "python",
   "nbconvert_exporter": "python",
   "pygments_lexer": "ipython3",
   "version": "3.11.7"
  }
 },
 "nbformat": 4,
 "nbformat_minor": 5
}

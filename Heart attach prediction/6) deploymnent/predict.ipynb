{
 "cells": [
  {
   "cell_type": "code",
   "execution_count": 3,
   "id": "861e6231-901b-4d60-acc6-fe5f7359a0cb",
   "metadata": {},
   "outputs": [
    {
     "name": "stdout",
     "output_type": "stream",
     "text": [
      "\n",
      "Enter the required details for heart disease prediction:\n"
     ]
    },
    {
     "name": "stdin",
     "output_type": "stream",
     "text": [
      "Age:  60\n",
      "Chest Pain Type (0-3):  2\n",
      "Maximum Heart Rate Achieved:  125\n",
      "Exercise Induced Angina (0 = No, 1 = Yes):  1\n",
      "ST Depression Induced by Exercise:  0.5\n",
      "Number of Major Vessels (0-3):  2\n"
     ]
    },
    {
     "name": "stdout",
     "output_type": "stream",
     "text": [
      "\n",
      "Prediction: Low risk of heart disease 🙂\n"
     ]
    }
   ],
   "source": [
    "import joblib\n",
    "import numpy as np\n",
    "\n",
    "# Load the trained model\n",
    "loaded_model = joblib.load('random_forest_heart_model.pkl')\n",
    "\n",
    "# Function to take user input and predict\n",
    "def predict_heart_disease():\n",
    "    print(\"\\nEnter the required details for heart disease prediction:\")\n",
    "    \n",
    "    age = int(input(\"Age: \"))\n",
    "    cp = int(input(\"Chest Pain Type (0-3): \"))\n",
    "    thalach = int(input(\"Maximum Heart Rate Achieved: \"))\n",
    "    exang = int(input(\"Exercise Induced Angina (0 = No, 1 = Yes): \"))\n",
    "    oldpeak = float(input(\"ST Depression Induced by Exercise: \"))\n",
    "    ca = int(input(\"Number of Major Vessels (0-3): \"))\n",
    "\n",
    "    # Convert input to a NumPy array\n",
    "    user_input = np.array([[age, cp, thalach, exang, oldpeak, ca]])\n",
    "\n",
    "    # Make prediction\n",
    "    prediction = loaded_model.predict(user_input)\n",
    "\n",
    "    # Display the result\n",
    "    if prediction[0] == 1:\n",
    "        print(\"\\nPrediction: High risk of heart disease 😟\")\n",
    "    else:\n",
    "        print(\"\\nPrediction: Low risk of heart disease 🙂\")\n",
    "\n",
    "# Run the function\n",
    "predict_heart_disease()\n"
   ]
  },
  {
   "cell_type": "code",
   "execution_count": null,
   "id": "bb40cbe2-9a1e-4a31-b183-acab8c006567",
   "metadata": {},
   "outputs": [],
   "source": []
  }
 ],
 "metadata": {
  "kernelspec": {
   "display_name": "Python 3 (ipykernel)",
   "language": "python",
   "name": "python3"
  },
  "language_info": {
   "codemirror_mode": {
    "name": "ipython",
    "version": 3
   },
   "file_extension": ".py",
   "mimetype": "text/x-python",
   "name": "python",
   "nbconvert_exporter": "python",
   "pygments_lexer": "ipython3",
   "version": "3.11.7"
  }
 },
 "nbformat": 4,
 "nbformat_minor": 5
}

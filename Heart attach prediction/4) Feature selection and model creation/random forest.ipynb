{
 "cells": [
  {
   "cell_type": "code",
   "execution_count": 13,
   "id": "c1e5d76d-a410-47a6-a72c-ddb4f5213d6c",
   "metadata": {},
   "outputs": [
    {
     "name": "stdout",
     "output_type": "stream",
     "text": [
      "Best Parameters: {'max_depth': 20, 'min_samples_leaf': 4, 'min_samples_split': 10, 'n_estimators': 50}\n",
      "\n",
      "Final Random Forest Accuracy: 0.9032258064516129\n",
      "\n",
      "Classification Report:\n",
      "               precision    recall  f1-score   support\n",
      "\n",
      "           0       0.89      0.94      0.91        17\n",
      "           1       0.92      0.86      0.89        14\n",
      "\n",
      "    accuracy                           0.90        31\n",
      "   macro avg       0.91      0.90      0.90        31\n",
      "weighted avg       0.90      0.90      0.90        31\n",
      "\n",
      "\n",
      "Confusion Matrix:\n",
      " [[16  1]\n",
      " [ 2 12]]\n"
     ]
    }
   ],
   "source": [
    "import pandas as pd\n",
    "from sklearn.model_selection import train_test_split\n",
    "from sklearn.ensemble import RandomForestClassifier\n",
    "from sklearn.metrics import confusion_matrix, accuracy_score, classification_report\n",
    "from sklearn.model_selection import GridSearchCV\n",
    "from sklearn.feature_selection import SelectKBest, chi2\n",
    "\n",
    "# Load dataset\n",
    "dataset = pd.read_csv(\"new_heart.csv\").drop(columns=['Unnamed: 0'], errors='ignore')  # Ignore error if column is missing\n",
    "\n",
    "# One-hot encoding categorical variables\n",
    "df2 = pd.get_dummies(dataset, drop_first=True)\n",
    "\n",
    "# Define independent and dependent variables\n",
    "indep_X = df2.drop('target', axis=1)  # Features\n",
    "dep_Y = df2['target']  # Target variable\n",
    "\n",
    "# Feature selection using SelectKBest (Chi-Square)\n",
    "selector = SelectKBest(score_func=chi2, k=6)\n",
    "kbest = selector.fit_transform(indep_X, dep_Y)\n",
    "\n",
    "# Splitting dataset\n",
    "X_train, X_test, y_train, y_test = train_test_split(kbest, dep_Y, test_size=0.1, random_state=0)\n",
    "\n",
    "# Define the Random Forest model with hyperparameter tuning\n",
    "def optimized_random_forest(X_train, y_train, X_test, y_test):\n",
    "    param_grid = {\n",
    "        'n_estimators': [50, 100, 200],  # Number of trees\n",
    "        'max_depth': [10, 20, None],  # Maximum depth of trees\n",
    "        'min_samples_split': [2, 5, 10],  # Minimum number of samples required to split an internal node\n",
    "        'min_samples_leaf': [1, 2, 4]  # Minimum number of samples required at a leaf node\n",
    "    }\n",
    "    \n",
    "    rf = RandomForestClassifier(criterion='entropy', random_state=0)\n",
    "    grid_search = GridSearchCV(rf, param_grid, cv=5, scoring='accuracy', n_jobs=-1)\n",
    "    grid_search.fit(X_train, y_train)\n",
    "    \n",
    "    best_rf = grid_search.best_estimator_\n",
    "    y_pred = best_rf.predict(X_test)\n",
    "    \n",
    "    accuracy = accuracy_score(y_test, y_pred)\n",
    "    cm = confusion_matrix(y_test, y_pred)\n",
    "    report = classification_report(y_test, y_pred)\n",
    "    \n",
    "    print(f\"Best Parameters: {grid_search.best_params_}\")\n",
    "    return best_rf, accuracy, report, cm\n",
    "\n",
    "# Run the optimized Random Forest\n",
    "final_rf, final_acc, final_report, final_cm = optimized_random_forest(X_train, y_train, X_test, y_test)\n",
    "\n",
    "# Print results\n",
    "print(\"\\nFinal Random Forest Accuracy:\", final_acc)\n",
    "print(\"\\nClassification Report:\\n\", final_report)\n",
    "print(\"\\nConfusion Matrix:\\n\", final_cm)\n"
   ]
  },
  {
   "cell_type": "code",
   "execution_count": 14,
   "id": "52e905bd-9222-4cd0-91a0-f2a2db932b4a",
   "metadata": {},
   "outputs": [
    {
     "name": "stdout",
     "output_type": "stream",
     "text": [
      "Selected Columns: Index(['age', 'cp', 'thalach', 'exang', 'oldpeak', 'ca'], dtype='object')\n"
     ]
    }
   ],
   "source": [
    "selected_columns = indep_X.columns[selector.get_support()]\n",
    "print(f\"Selected Columns: {selected_columns}\")\n"
   ]
  },
  {
   "cell_type": "code",
   "execution_count": null,
   "id": "87c42c3c-6e09-42f4-8384-a3cefc7e8fc9",
   "metadata": {},
   "outputs": [],
   "source": []
  }
 ],
 "metadata": {
  "kernelspec": {
   "display_name": "Python 3 (ipykernel)",
   "language": "python",
   "name": "python3"
  },
  "language_info": {
   "codemirror_mode": {
    "name": "ipython",
    "version": 3
   },
   "file_extension": ".py",
   "mimetype": "text/x-python",
   "name": "python",
   "nbconvert_exporter": "python",
   "pygments_lexer": "ipython3",
   "version": "3.11.7"
  }
 },
 "nbformat": 4,
 "nbformat_minor": 5
}

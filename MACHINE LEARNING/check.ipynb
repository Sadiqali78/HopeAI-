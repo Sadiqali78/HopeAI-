{
 "cells": [
  {
   "cell_type": "code",
   "execution_count": 11,
   "id": "ce288100-00c2-40a6-b129-cfdd8ebc4ae1",
   "metadata": {},
   "outputs": [
    {
     "name": "stdin",
     "output_type": "stream",
     "text": [
      "Enter the input value for prediction:  18\n"
     ]
    },
    {
     "name": "stdout",
     "output_type": "stream",
     "text": [
      "The prediction result is: [[195262.09449268]]\n"
     ]
    },
    {
     "name": "stderr",
     "output_type": "stream",
     "text": [
      "C:\\Users\\sadiq\\anaconda3\\Lib\\site-packages\\sklearn\\base.py:439: UserWarning: X does not have valid feature names, but LinearRegression was fitted with feature names\n",
      "  warnings.warn(\n"
     ]
    }
   ],
   "source": [
    "#save the model using pickle\n",
    "import pickle\n",
    "loaded_model = pickle.load(open(\"finalized_model_linear.sav\", 'rb'))\n",
    "#getting the input that assign to d variable\n",
    "d = int(input(\"Enter the input value for prediction: \"))\n",
    "result = loaded_model.predict([[d]])\n",
    "\n",
    "print(\"The prediction result is:\", result)\n"
   ]
  },
  {
   "cell_type": "code",
   "execution_count": null,
   "id": "99707361-e806-431e-8f45-2d67bda9b8c2",
   "metadata": {},
   "outputs": [],
   "source": []
  }
 ],
 "metadata": {
  "kernelspec": {
   "display_name": "Python 3 (ipykernel)",
   "language": "python",
   "name": "python3"
  },
  "language_info": {
   "codemirror_mode": {
    "name": "ipython",
    "version": 3
   },
   "file_extension": ".py",
   "mimetype": "text/x-python",
   "name": "python",
   "nbconvert_exporter": "python",
   "pygments_lexer": "ipython3",
   "version": "3.11.7"
  }
 },
 "nbformat": 4,
 "nbformat_minor": 5
}

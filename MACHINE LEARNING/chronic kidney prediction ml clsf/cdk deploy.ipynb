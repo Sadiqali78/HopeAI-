{
 "cells": [
  {
   "cell_type": "code",
   "execution_count": 1,
   "id": "db7cf5d6-637c-43ec-a2c0-766b8cab04d6",
   "metadata": {},
   "outputs": [],
   "source": [
    "import pickle\n",
    "import pandas as pd\n",
    "import numpy as np"
   ]
  },
  {
   "cell_type": "code",
   "execution_count": 2,
   "id": "4137e24c-5a4f-49dc-ad56-2523e9ecb49d",
   "metadata": {},
   "outputs": [],
   "source": [
    "dataset=pd.read_csv(\"CKD.csv\")\n",
    "dataset=pd.get_dummies(dataset,dtype=int,drop_first=True)\n",
    "independent=dataset[['age', 'blood presure', 'albumin', 'sugar', 'blood glucose random',\n",
    "       'blood urea', 'serum creatinine', 'sodium', 'pottassium', 'hrmo',\n",
    "       'packet cell valume', 'white blood cell count', 'red blood cell count',\n",
    "       'specific gravity_b', 'specific gravity_c', 'specific gravity_d',\n",
    "       'specific gravity_e', 'rbc_normal', 'pus cell_normal',\n",
    "       'pus cell clumps_present', 'bacteria_present', 'hypertension_yes',\n",
    "       'diabetes mellitus_yes', 'coronary artery disease_yes', 'appetite_yes',\n",
    "       'pedal edema_yes', 'anemea_yes']]\n",
    "dependent=dataset[['classification_yes']]\n",
    "from sklearn.model_selection import train_test_split\n",
    "x_train,x_test,y_train,y_test=train_test_split(independent,dependent,test_size=0.30,random_state=0)"
   ]
  },
  {
   "cell_type": "code",
   "execution_count": 3,
   "id": "03a6a31f-3515-4bb4-9552-76e86e229a1c",
   "metadata": {},
   "outputs": [
    {
     "name": "stdout",
     "output_type": "stream",
     "text": [
      "Fitting 5 folds for each of 162 candidates, totalling 810 fits\n"
     ]
    },
    {
     "name": "stderr",
     "output_type": "stream",
     "text": [
      "C:\\Users\\sadiq\\anaconda3\\Lib\\site-packages\\sklearn\\ensemble\\_gb.py:437: DataConversionWarning: A column-vector y was passed when a 1d array was expected. Please change the shape of y to (n_samples, ), for example using ravel().\n",
      "  y = column_or_1d(y, warn=True)\n"
     ]
    },
    {
     "name": "stdout",
     "output_type": "stream",
     "text": [
      "Enter the following details for CKD prediction:\n"
     ]
    },
    {
     "name": "stdin",
     "output_type": "stream",
     "text": [
      "Age:  51\n",
      "Blood Pressure:  80\n",
      "Albumin:  0\n",
      "Sugar:  0\n",
      "Blood Glucose Random:  100\n",
      "Blood Urea:  49\n",
      "Serum Creatinine:  1.0\n",
      "Sodium:  140\n",
      "Potassium:  5.00\n",
      "Hemoglobin:  16.300\n",
      "Packed Cell Volume:  105\n",
      "White Blood Cell Count:  45.6\n",
      "Red Blood Cell Count:  65.3\n",
      "Specific Gravity (b): (0 or 1)  1\n",
      "Specific Gravity (c): (0 or 1)  0\n",
      "Specific Gravity (d): (0 or 1)  0\n",
      "Specific Gravity (e): (0 or 1)  0\n",
      "Red Blood Cells Normal (0 or 1):  0\n",
      "Pus Cell Normal (0 or 1):  0\n",
      "Pus Cell Clumps Present (0 or 1):  1\n",
      "Bacteria Present (0 or 1):  0\n",
      "Hypertension (Yes: 1, No: 0):  0\n",
      "Diabetes Mellitus (Yes: 1, No: 0):  0\n",
      "Coronary Artery Disease (Yes: 1, No: 0):  0\n",
      "Appetite (Yes: 1, No: 0):  0\n",
      "Pedal Edema (Yes: 1, No: 0):  0\n",
      "Anemia (Yes: 1, No: 0):  1\n"
     ]
    },
    {
     "name": "stderr",
     "output_type": "stream",
     "text": [
      "C:\\Users\\sadiq\\anaconda3\\Lib\\site-packages\\sklearn\\base.py:439: UserWarning: X does not have valid feature names, but StandardScaler was fitted with feature names\n",
      "  warnings.warn(\n"
     ]
    }
   ],
   "source": [
    "from sklearn.preprocessing import StandardScaler\n",
    "from sklearn.ensemble import GradientBoostingClassifier\n",
    "from sklearn.model_selection import GridSearchCV\n",
    "from sklearn.metrics import confusion_matrix, classification_report\n",
    "\n",
    "# Standardizing the training and test data\n",
    "sc = StandardScaler()\n",
    "x_train = sc.fit_transform(x_train)  # Fit and transform the training data\n",
    "x_test = sc.transform(x_test)        # Transform the test data (no fitting)\n",
    "\n",
    "# Defining the hyperparameter grid\n",
    "param_grid = {\n",
    "    'n_estimators': [50, 100, 150],         # Number of boosting stages\n",
    "    'learning_rate': [0.01, 0.1, 0.2],     # Shrinkage rate\n",
    "    'max_depth': [3, 4, 5],                # Maximum depth of individual estimators\n",
    "    'subsample': [0.8, 1.0],               # Fraction of samples used for training each tree\n",
    "    'min_samples_split': [2, 5, 10]        # Minimum samples required to split an internal node\n",
    "}\n",
    "\n",
    "# Initializing the Gradient Boosting Classifier\n",
    "classifier = GradientBoostingClassifier()\n",
    "\n",
    "# Initializing GridSearchCV\n",
    "grid_search = GridSearchCV(\n",
    "    estimator=classifier, \n",
    "    param_grid=param_grid, \n",
    "    cv=5,                      # 5-fold cross-validation\n",
    "    scoring='accuracy',        # Evaluation metric\n",
    "    verbose=1,                 # Display progress\n",
    "    n_jobs=-1                  # Use all available cores\n",
    ")\n",
    "\n",
    "# Fitting GridSearchCV to the training data\n",
    "grid_search.fit(x_train, y_train)\n",
    "def get_user_input():\n",
    "    print(\"Enter the following details for CKD prediction:\")\n",
    "    \n",
    "    age = float(input(\"Age: \"))\n",
    "    blood_pressure = float(input(\"Blood Pressure: \"))\n",
    "    albumin = float(input(\"Albumin: \"))\n",
    "    sugar = float(input(\"Sugar: \"))\n",
    "    blood_glucose_random = float(input(\"Blood Glucose Random: \"))\n",
    "    blood_urea = float(input(\"Blood Urea: \"))\n",
    "    serum_creatinine = float(input(\"Serum Creatinine: \"))\n",
    "    sodium = float(input(\"Sodium: \"))\n",
    "    potassium = float(input(\"Potassium: \"))\n",
    "    hemoglobin = float(input(\"Hemoglobin: \"))\n",
    "    packed_cell_volume = float(input(\"Packed Cell Volume: \"))\n",
    "    white_blood_cell_count = float(input(\"White Blood Cell Count: \"))\n",
    "    red_blood_cell_count = float(input(\"Red Blood Cell Count: \"))\n",
    "    \n",
    "    # For specific gravity, assume user enters one of the options (b, c, d, e)\n",
    "    specific_gravity_b = int(input(\"Specific Gravity (b): (0 or 1) \"))\n",
    "    specific_gravity_c = int(input(\"Specific Gravity (c): (0 or 1) \"))\n",
    "    specific_gravity_d = int(input(\"Specific Gravity (d): (0 or 1) \"))\n",
    "    specific_gravity_e = int(input(\"Specific Gravity (e): (0 or 1) \"))\n",
    "    \n",
    "    # For other binary features\n",
    "    rbc_normal = int(input(\"Red Blood Cells Normal (0 or 1): \"))\n",
    "    pus_cell_normal = int(input(\"Pus Cell Normal (0 or 1): \"))\n",
    "    pus_cell_clumps_present = int(input(\"Pus Cell Clumps Present (0 or 1): \"))\n",
    "    bacteria_present = int(input(\"Bacteria Present (0 or 1): \"))\n",
    "    hypertension_yes = int(input(\"Hypertension (Yes: 1, No: 0): \"))\n",
    "    diabetes_mellitus_yes = int(input(\"Diabetes Mellitus (Yes: 1, No: 0): \"))\n",
    "    coronary_artery_disease_yes = int(input(\"Coronary Artery Disease (Yes: 1, No: 0): \"))\n",
    "    appetite_yes = int(input(\"Appetite (Yes: 1, No: 0): \"))\n",
    "    pedal_edema_yes = int(input(\"Pedal Edema (Yes: 1, No: 0): \"))\n",
    "    anemia_yes = int(input(\"Anemia (Yes: 1, No: 0): \"))\n",
    "    \n",
    "    # Return all inputs as a numpy array in the correct format for prediction\n",
    "    return np.array([[age, blood_pressure, albumin, sugar, blood_glucose_random,\n",
    "                       blood_urea, serum_creatinine, sodium, potassium, hemoglobin,\n",
    "                       packed_cell_volume, white_blood_cell_count, red_blood_cell_count,\n",
    "                       specific_gravity_b, specific_gravity_c, specific_gravity_d,\n",
    "                       specific_gravity_e, rbc_normal, pus_cell_normal,\n",
    "                       pus_cell_clumps_present, bacteria_present, hypertension_yes,\n",
    "                       diabetes_mellitus_yes, coronary_artery_disease_yes, appetite_yes,\n",
    "                       pedal_edema_yes, anemia_yes]])\n",
    "\n",
    "# Get input from user\n",
    "input_features = get_user_input()\n",
    "\n",
    "pre_input=sc.transform(input_features)\n",
    "\n",
    "\n",
    "load_model=pickle.load(open(\"chronic_disease_prediction.sav\",'rb'))\n",
    "result=load_model.predict(pre_input)"
   ]
  },
  {
   "cell_type": "code",
   "execution_count": 5,
   "id": "a6687fab-0f73-4062-bf9e-ebd792ad5047",
   "metadata": {},
   "outputs": [
    {
     "data": {
      "text/plain": [
       "array([0])"
      ]
     },
     "execution_count": 5,
     "metadata": {},
     "output_type": "execute_result"
    }
   ],
   "source": [
    "result"
   ]
  },
  {
   "cell_type": "code",
   "execution_count": null,
   "id": "a79e4b3b-1868-41e0-8101-40f7bc0d982a",
   "metadata": {},
   "outputs": [],
   "source": []
  }
 ],
 "metadata": {
  "kernelspec": {
   "display_name": "Python 3 (ipykernel)",
   "language": "python",
   "name": "python3"
  },
  "language_info": {
   "codemirror_mode": {
    "name": "ipython",
    "version": 3
   },
   "file_extension": ".py",
   "mimetype": "text/x-python",
   "name": "python",
   "nbconvert_exporter": "python",
   "pygments_lexer": "ipython3",
   "version": "3.11.7"
  }
 },
 "nbformat": 4,
 "nbformat_minor": 5
}

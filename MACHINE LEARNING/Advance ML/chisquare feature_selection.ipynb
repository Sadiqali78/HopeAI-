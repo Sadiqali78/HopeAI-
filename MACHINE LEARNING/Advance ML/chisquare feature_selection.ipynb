{
 "cells": [
  {
   "cell_type": "code",
   "execution_count": null,
   "id": "384df53b-a52a-490a-91ba-841589155a61",
   "metadata": {},
   "outputs": [],
   "source": [
    "import pandas as pd\n",
    "import numpy as np\n",
    "import time\n",
    "import warnings\n",
    "import pickle\n",
    "import matplotlib.pyplot as plt\n",
    "from sklearn.model_selection import train_test_split\n",
    "from sklearn.preprocessing import StandardScaler\n",
    "from sklearn.feature_selection import SelectKBest, chi2\n",
    "from sklearn.linear_model import LogisticRegression\n",
    "from sklearn.svm import SVC\n",
    "from sklearn.naive_bayes import GaussianNB\n",
    "from sklearn.neighbors import KNeighborsClassifier\n",
    "from sklearn.tree import DecisionTreeClassifier\n",
    "from sklearn.ensemble import RandomForestClassifier\n",
    "from sklearn.metrics import confusion_matrix, accuracy_score, classification_report"
   ]
  },
  {
   "cell_type": "code",
   "execution_count": 6,
   "id": "ad941e91-fad8-43ea-946f-515ffe838bb9",
   "metadata": {},
   "outputs": [
    {
     "name": "stdout",
     "output_type": "stream",
     "text": [
      "                     Accuracy\n",
      "Logistic Regression      0.95\n",
      "SVM Linear               0.96\n",
      "SVM Non-Linear           0.96\n",
      "KNN                      0.93\n",
      "Naive Bayes              0.89\n",
      "Decision Tree            0.97\n",
      "Random Forest            0.97\n"
     ]
    }
   ],
   "source": [
    "# Function to perform feature selection using Chi-Square test\n",
    "def select_k_best_features(X, y, k):\n",
    "    selector = SelectKBest(score_func=chi2, k=k)\n",
    "    selector.fit(X, y)\n",
    "    selected_columns = X.columns[selector.get_support()]\n",
    "    X_selected = selector.transform(X)\n",
    "    return selected_columns, X_selected\n",
    "\n",
    "# Function to split data and scale it\n",
    "def split_and_scale(X, y):\n",
    "    X_train, X_test, y_train, y_test = train_test_split(X, y, test_size=0.25, random_state=0)\n",
    "    scaler = StandardScaler()\n",
    "    X_train = scaler.fit_transform(X_train)\n",
    "    X_test = scaler.transform(X_test)\n",
    "    return X_train, X_test, y_train, y_test\n",
    "\n",
    "# Function to evaluate models\n",
    "def evaluate_model(model, X_test, y_test):\n",
    "    y_pred = model.predict(X_test)\n",
    "    accuracy = accuracy_score(y_test, y_pred)\n",
    "    report = classification_report(y_test, y_pred)\n",
    "    cm = confusion_matrix(y_test, y_pred)\n",
    "    return accuracy, report, cm\n",
    "\n",
    "# Function to train and evaluate classifiers\n",
    "def train_classifier(classifier, X_train, y_train, X_test, y_test):\n",
    "    classifier.fit(X_train, y_train)\n",
    "    return evaluate_model(classifier, X_test, y_test)\n",
    "\n",
    "# Load dataset\n",
    "dataset = pd.read_csv(\"prep.csv\")\n",
    "dataset_encoded = pd.get_dummies(dataset, drop_first=True)\n",
    "X = dataset_encoded.drop('classification_yes', axis=1)\n",
    "y = dataset_encoded['classification_yes']\n",
    "\n",
    "# Feature selection\n",
    "selected_columns, X_selected = select_k_best_features(X, y, 6)\n",
    "\n",
    "# Split and scale data\n",
    "X_train, X_test, y_train, y_test = split_and_scale(X_selected, y)\n",
    "\n",
    "# Train models and store results\n",
    "models = {\n",
    "    \"Logistic Regression\": LogisticRegression(random_state=0),\n",
    "    \"SVM Linear\": SVC(kernel='linear', random_state=0),\n",
    "    \"SVM Non-Linear\": SVC(kernel='rbf', random_state=0),\n",
    "    \"KNN\": KNeighborsClassifier(n_neighbors=5, metric='minkowski', p=2),\n",
    "    \"Naive Bayes\": GaussianNB(),\n",
    "    \"Decision Tree\": DecisionTreeClassifier(criterion='entropy', random_state=0),\n",
    "    \"Random Forest\": RandomForestClassifier(n_estimators=10, criterion='entropy', random_state=0)\n",
    "}\n",
    "\n",
    "results = {}\n",
    "for name, model in models.items():\n",
    "    accuracy, report, cm = train_classifier(model, X_train, y_train, X_test, y_test)\n",
    "    results[name] = accuracy\n",
    "\n",
    "# Display results\n",
    "df_results = pd.DataFrame.from_dict(results, orient='index', columns=['Accuracy'])\n",
    "print(df_results)\n"
   ]
  },
  {
   "cell_type": "code",
   "execution_count": 7,
   "id": "4ade6edc-5e78-420b-ad2f-e677275c07d4",
   "metadata": {},
   "outputs": [
    {
     "data": {
      "text/plain": [
       "Index(['al', 'bgr', 'bu', 'sc', 'pcv', 'wc'], dtype='object')"
      ]
     },
     "execution_count": 7,
     "metadata": {},
     "output_type": "execute_result"
    }
   ],
   "source": [
    "selected_columns"
   ]
  },
  {
   "cell_type": "code",
   "execution_count": null,
   "id": "f671967e-c09f-431c-b00e-9c5b3a3b097f",
   "metadata": {},
   "outputs": [],
   "source": []
  }
 ],
 "metadata": {
  "kernelspec": {
   "display_name": "Python 3 (ipykernel)",
   "language": "python",
   "name": "python3"
  },
  "language_info": {
   "codemirror_mode": {
    "name": "ipython",
    "version": 3
   },
   "file_extension": ".py",
   "mimetype": "text/x-python",
   "name": "python",
   "nbconvert_exporter": "python",
   "pygments_lexer": "ipython3",
   "version": "3.11.7"
  }
 },
 "nbformat": 4,
 "nbformat_minor": 5
}

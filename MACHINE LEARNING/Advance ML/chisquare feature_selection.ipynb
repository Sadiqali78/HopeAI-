{
 "cells": [
  {
   "cell_type": "code",
   "execution_count": 1,
   "id": "903ef6ff-6ccd-4319-8667-178966e77eba",
   "metadata": {},
   "outputs": [
    {
     "name": "stdout",
     "output_type": "stream",
     "text": [
      "           Logistic  SVM Linear  SVM RBF   KNN  Naive Bayes  Decision Tree  \\\n",
      "ChiSquare      0.85        0.82     0.83  0.86         0.79           0.89   \n",
      "\n",
      "           Random Forest  \n",
      "ChiSquare           0.89  \n"
     ]
    }
   ],
   "source": [
    "import pandas as pd\n",
    "import numpy as np\n",
    "import warnings\n",
    "import pickle\n",
    "import matplotlib.pyplot as plt\n",
    "from sklearn.model_selection import train_test_split\n",
    "from sklearn.preprocessing import StandardScaler\n",
    "from sklearn.feature_selection import SelectKBest, chi2\n",
    "from sklearn.metrics import confusion_matrix, accuracy_score, classification_report\n",
    "from sklearn.linear_model import LogisticRegression\n",
    "from sklearn.svm import SVC\n",
    "from sklearn.naive_bayes import GaussianNB\n",
    "from sklearn.neighbors import KNeighborsClassifier\n",
    "from sklearn.tree import DecisionTreeClassifier\n",
    "from sklearn.ensemble import RandomForestClassifier\n",
    "\n",
    "warnings.filterwarnings(\"ignore\")\n",
    "\n",
    "def split_scalar(indep_X, dep_Y):\n",
    "    X_train, X_test, y_train, y_test = train_test_split(indep_X, dep_Y, test_size=0.25, random_state=0)\n",
    "    sc = StandardScaler()\n",
    "    X_train = sc.fit_transform(X_train)\n",
    "    X_test = sc.transform(X_test)\n",
    "    return X_train, X_test, y_train, y_test\n",
    "\n",
    "def cm_prediction(classifier, X_test, y_test):\n",
    "    y_pred = classifier.predict(X_test)\n",
    "    cm = confusion_matrix(y_test, y_pred)\n",
    "    accuracy = accuracy_score(y_test, y_pred)\n",
    "    report = classification_report(y_test, y_pred)\n",
    "    return classifier, accuracy, report, cm\n",
    "\n",
    "def logistic(X_train, y_train, X_test, y_test):\n",
    "    classifier = LogisticRegression(random_state=0)\n",
    "    classifier.fit(X_train, y_train)\n",
    "    return cm_prediction(classifier, X_test, y_test)\n",
    "\n",
    "def svm_linear(X_train, y_train, X_test, y_test):\n",
    "    classifier = SVC(kernel='linear', random_state=0)\n",
    "    classifier.fit(X_train, y_train)\n",
    "    return cm_prediction(classifier, X_test, y_test)\n",
    "\n",
    "def svm_nl(X_train, y_train, X_test, y_test):\n",
    "    classifier = SVC(kernel='rbf', random_state=0)\n",
    "    classifier.fit(X_train, y_train)\n",
    "    return cm_prediction(classifier, X_test, y_test)\n",
    "\n",
    "def naive_bayes(X_train, y_train, X_test, y_test):\n",
    "    classifier = GaussianNB()\n",
    "    classifier.fit(X_train, y_train)\n",
    "    return cm_prediction(classifier, X_test, y_test)\n",
    "\n",
    "def knn(X_train, y_train, X_test, y_test):\n",
    "    classifier = KNeighborsClassifier(n_neighbors=5, metric='minkowski', p=2)\n",
    "    classifier.fit(X_train, y_train)\n",
    "    return cm_prediction(classifier, X_test, y_test)\n",
    "\n",
    "def decision_tree(X_train, y_train, X_test, y_test):\n",
    "    classifier = DecisionTreeClassifier(criterion='entropy', random_state=0)\n",
    "    classifier.fit(X_train, y_train)\n",
    "    return cm_prediction(classifier, X_test, y_test)\n",
    "\n",
    "def random_forest(X_train, y_train, X_test, y_test):\n",
    "    classifier = RandomForestClassifier(n_estimators=10, criterion='entropy', random_state=0)\n",
    "    classifier.fit(X_train, y_train)\n",
    "    return cm_prediction(classifier, X_test, y_test)\n",
    "\n",
    "def select_k_best(indep_X, dep_Y, k):\n",
    "    selector = SelectKBest(score_func=chi2, k=k)\n",
    "    X_new = selector.fit_transform(indep_X, dep_Y)\n",
    "    selected_columns = indep_X.columns[selector.get_support()].tolist()\n",
    "    return X_new, selected_columns\n",
    "\n",
    "def create_results_dataframe(*accuracies):\n",
    "    index = ['ChiSquare']\n",
    "    columns = ['Logistic', 'SVM Linear', 'SVM RBF', 'KNN', 'Naive Bayes', 'Decision Tree', 'Random Forest']\n",
    "    df = pd.DataFrame([accuracies], index=index, columns=columns)\n",
    "    return df\n",
    "\n",
    "# Load the dataset\n",
    "dataset = pd.read_csv(\"prep.csv\")\n",
    "\n",
    "# Convert categorical data into numerical data\n",
    "dataset = pd.get_dummies(dataset, drop_first=True)\n",
    "\n",
    "# Ensure 'classification_yes' is a target column\n",
    "if 'classification_yes' not in dataset.columns:\n",
    "    raise ValueError(\"Target column 'classification_yes' not found in dataset\")\n",
    "\n",
    "indep_X = dataset.drop('classification_yes', axis=1)\n",
    "dep_Y = dataset['classification_yes']\n",
    "\n",
    "# Feature selection\n",
    "kbest_X, selected_columns = select_k_best(indep_X, dep_Y, k=4)\n",
    "\n",
    "# Split and scale data\n",
    "X_train, X_test, y_train, y_test = split_scalar(kbest_X, dep_Y)\n",
    "\n",
    "# Train models and store accuracies\n",
    "accuracies = [\n",
    "    logistic(X_train, y_train, X_test, y_test)[1],\n",
    "    svm_linear(X_train, y_train, X_test, y_test)[1],\n",
    "    svm_nl(X_train, y_train, X_test, y_test)[1],\n",
    "    knn(X_train, y_train, X_test, y_test)[1],\n",
    "    naive_bayes(X_train, y_train, X_test, y_test)[1],\n",
    "    decision_tree(X_train, y_train, X_test, y_test)[1],\n",
    "    random_forest(X_train, y_train, X_test, y_test)[1]\n",
    "]\n",
    "\n",
    "# Create results dataframe\n",
    "result_df = create_results_dataframe(*accuracies)\n",
    "print(result_df)\n"
   ]
  },
  {
   "cell_type": "code",
   "execution_count": 2,
   "id": "687c5037-cf16-4966-a83d-86edbda19dc8",
   "metadata": {},
   "outputs": [
    {
     "data": {
      "text/plain": [
       "['bgr', 'bu', 'sc', 'wc']"
      ]
     },
     "execution_count": 2,
     "metadata": {},
     "output_type": "execute_result"
    }
   ],
   "source": [
    "selected_columns"
   ]
  },
  {
   "cell_type": "code",
   "execution_count": null,
   "id": "3a917185-1148-43a2-bff8-64654b5d8fd7",
   "metadata": {},
   "outputs": [],
   "source": []
  }
 ],
 "metadata": {
  "kernelspec": {
   "display_name": "Python 3 (ipykernel)",
   "language": "python",
   "name": "python3"
  },
  "language_info": {
   "codemirror_mode": {
    "name": "ipython",
    "version": 3
   },
   "file_extension": ".py",
   "mimetype": "text/x-python",
   "name": "python",
   "nbconvert_exporter": "python",
   "pygments_lexer": "ipython3",
   "version": "3.11.7"
  }
 },
 "nbformat": 4,
 "nbformat_minor": 5
}
